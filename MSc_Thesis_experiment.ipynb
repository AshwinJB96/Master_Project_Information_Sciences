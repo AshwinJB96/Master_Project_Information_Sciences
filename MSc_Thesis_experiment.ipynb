{
 "cells": [
  {
   "cell_type": "code",
   "execution_count": 53,
   "metadata": {},
   "outputs": [],
   "source": [
    "import numpy as np\n",
    "import pandas as pd\n",
    "import json\n",
    "import requests\n",
    "\n",
    "pd.options.display.max_rows = 15\n",
    "np.set_printoptions(precision=4, suppress=True)"
   ]
  },
  {
   "cell_type": "code",
   "execution_count": 54,
   "metadata": {},
   "outputs": [],
   "source": [
    "#PLOS API URL collection - Information Sciences\n",
    "\n",
    "#First 5 years after the policy introduction\n",
    "DA1 = 'http://api.plos.org/search?q=subject_level_1:\"Social sciences\" AND everything:10.1371 AND publication_date:[2014-03-04T00:00:00Z TO 2015-03-04T23:59:59Z]&fl=id,data_availability,alm_scopusCiteCount,alm_twitterCount,alm_facebookCount&wt=json&indent=on&rows=10000'\n",
    "DA2 = 'http://api.plos.org/search?q=subject_level_1:\"Social sciences\" AND everything:10.1371 AND publication_date:[2015-03-04T00:00:00Z TO 2016-03-04T23:59:59Z]&fl=id,data_availability,alm_scopusCiteCount,alm_twitterCount,alm_facebookCount&wt=json&indent=on&rows=10000'\n",
    "DA3 = 'http://api.plos.org/search?q=subject_level_1:\"Social sciences\" AND everything:10.1371 AND publication_date:[2016-03-04T00:00:00Z TO 2017-03-04T23:59:59Z]&fl=id,data_availability,alm_scopusCiteCount,alm_twitterCount,alm_facebookCount&wt=json&indent=on&rows=10000'\n",
    "DA4 = 'http://api.plos.org/search?q=subject_level_1:\"Social sciences\" AND everything:10.1371 AND publication_date:[2017-03-04T00:00:00Z TO 2018-03-04T23:59:59Z]&fl=id,data_availability,alm_scopusCiteCount,alm_twitterCount,alm_facebookCount&wt=json&indent=on&rows=10000'\n",
    "DA5 = 'http://api.plos.org/search?q=subject_level_1:\"Social sciences\" AND everything:10.1371 AND publication_date:[2018-03-04T00:00:00Z TO 2019-03-04T23:59:59Z]&fl=id,data_availability,alm_scopusCiteCount,alm_twitterCount,alm_facebookCount&wt=json&indent=on&rows=10000'\n",
    "\n",
    "#5 Years leading up to the policy introduction\n",
    "NO_DA5 = 'http://api.plos.org/search?q=subject_level_1:\"Social sciences\" AND everything:10.1371 AND publication_date:[2009-03-01T00:00:00Z TO 2010-03-01T23:59:59Z]&fl=id,data_availability,alm_scopusCiteCount,alm_twitterCount,alm_facebookCount&wt=json&indent=on&rows=10000'\n",
    "NO_DA4 = 'http://api.plos.org/search?q=subject_level_1:\"Social sciences\" AND everything:10.1371 AND publication_date:[2010-03-01T00:00:00Z TO 2011-03-01T23:59:59Z]&fl=id,data_availability,alm_scopusCiteCount,alm_twitterCount,alm_facebookCount&wt=json&indent=on&rows=10000'\n",
    "NO_DA3 = 'http://api.plos.org/search?q=subject_level_1:\"Social sciences\" AND everything:10.1371 AND publication_date:[2011-03-01T00:00:00Z TO 2012-03-01T23:59:59Z]&fl=id,data_availability,alm_scopusCiteCount,alm_twitterCount,alm_facebookCount&wt=json&indent=on&rows=10000'\n",
    "NO_DA2 = 'http://api.plos.org/search?q=subject_level_1:\"Social sciences\" AND everything:10.1371 AND publication_date:[2012-03-01T00:00:00Z TO 2013-03-01T23:59:59Z]&fl=id,data_availability,alm_scopusCiteCount,alm_twitterCount,alm_facebookCount&wt=json&indent=on&rows=10000'\n",
    "NO_DA1 = 'http://api.plos.org/search?q=subject_level_1:\"Social sciences\" AND everything:10.1371 AND publication_date:[2013-03-01T00:00:00Z TO 2014-03-01T23:59:59Z]&fl=id,data_availability,alm_scopusCiteCount,alm_twitterCount,alm_facebookCount&wt=json&indent=on&rows=10000'\n"
   ]
  },
  {
   "cell_type": "code",
   "execution_count": 48,
   "metadata": {},
   "outputs": [
    {
     "name": "stdout",
     "output_type": "stream",
     "text": [
      "[1027, 1478, 2828, 4767, 6222, 5438, 7061, 5343, 5197, 5734]\n"
     ]
    }
   ],
   "source": [
    "#Get the total number of found publications for each year (Information Sciences)\n",
    "\n",
    "def get_numfound(API_URL):\n",
    "    url = API_URL\n",
    "    resp = requests.get(url)\n",
    "    data = resp.json()\n",
    "    data = data['response']\n",
    "    data = data['numFound']\n",
    "    \n",
    "    return data\n",
    "\n",
    "numFound = []\n",
    "\n",
    "numFound.append(get_numfound(NO_DA5))\n",
    "numFound.append(get_numfound(NO_DA4))\n",
    "numFound.append(get_numfound(NO_DA3))\n",
    "numFound.append(get_numfound(NO_DA2))\n",
    "numFound.append(get_numfound(NO_DA1))\n",
    "\n",
    "numFound.append(get_numfound(DA1))\n",
    "numFound.append(get_numfound(DA2))\n",
    "numFound.append(get_numfound(DA3))\n",
    "numFound.append(get_numfound(DA4))\n",
    "numFound.append(get_numfound(DA5))\n",
    "    \n",
    "print(numFound)"
   ]
  },
  {
   "cell_type": "code",
   "execution_count": 51,
   "metadata": {},
   "outputs": [
    {
     "data": {
      "text/html": [
       "<div>\n",
       "<style scoped>\n",
       "    .dataframe tbody tr th:only-of-type {\n",
       "        vertical-align: middle;\n",
       "    }\n",
       "\n",
       "    .dataframe tbody tr th {\n",
       "        vertical-align: top;\n",
       "    }\n",
       "\n",
       "    .dataframe thead th {\n",
       "        text-align: right;\n",
       "    }\n",
       "</style>\n",
       "<table border=\"1\" class=\"dataframe\">\n",
       "  <thead>\n",
       "    <tr style=\"text-align: right;\">\n",
       "      <th></th>\n",
       "      <th>Total Publications</th>\n",
       "    </tr>\n",
       "  </thead>\n",
       "  <tbody>\n",
       "    <tr>\n",
       "      <td>09-10</td>\n",
       "      <td>1027</td>\n",
       "    </tr>\n",
       "    <tr>\n",
       "      <td>10-11</td>\n",
       "      <td>1478</td>\n",
       "    </tr>\n",
       "    <tr>\n",
       "      <td>11-12</td>\n",
       "      <td>2828</td>\n",
       "    </tr>\n",
       "    <tr>\n",
       "      <td>12-13</td>\n",
       "      <td>4767</td>\n",
       "    </tr>\n",
       "    <tr>\n",
       "      <td>13-14</td>\n",
       "      <td>6222</td>\n",
       "    </tr>\n",
       "  </tbody>\n",
       "</table>\n",
       "</div>"
      ],
      "text/plain": [
       "       Total Publications\n",
       "09-10                1027\n",
       "10-11                1478\n",
       "11-12                2828\n",
       "12-13                4767\n",
       "13-14                6222"
      ]
     },
     "execution_count": 51,
     "metadata": {},
     "output_type": "execute_result"
    }
   ],
   "source": [
    "#Display results in a Pandas DataFrame\n",
    "\n",
    "yearsNODA = [\"09-10\", \"10-11\", \"11-12\", \"12-13\", \"13-14\"]\n",
    "\n",
    "NumFoundTableNO_DA = pd.DataFrame(list(zip(numFound[0:5])), \n",
    "               columns =['Total Publications'], index= yearsNODA) \n",
    "\n",
    "NumFoundTableNO_DA"
   ]
  },
  {
   "cell_type": "code",
   "execution_count": 52,
   "metadata": {},
   "outputs": [
    {
     "data": {
      "text/html": [
       "<div>\n",
       "<style scoped>\n",
       "    .dataframe tbody tr th:only-of-type {\n",
       "        vertical-align: middle;\n",
       "    }\n",
       "\n",
       "    .dataframe tbody tr th {\n",
       "        vertical-align: top;\n",
       "    }\n",
       "\n",
       "    .dataframe thead th {\n",
       "        text-align: right;\n",
       "    }\n",
       "</style>\n",
       "<table border=\"1\" class=\"dataframe\">\n",
       "  <thead>\n",
       "    <tr style=\"text-align: right;\">\n",
       "      <th></th>\n",
       "      <th>Total Publications</th>\n",
       "    </tr>\n",
       "  </thead>\n",
       "  <tbody>\n",
       "    <tr>\n",
       "      <td>14-15</td>\n",
       "      <td>5438</td>\n",
       "    </tr>\n",
       "    <tr>\n",
       "      <td>15-16</td>\n",
       "      <td>7061</td>\n",
       "    </tr>\n",
       "    <tr>\n",
       "      <td>16-17</td>\n",
       "      <td>5343</td>\n",
       "    </tr>\n",
       "    <tr>\n",
       "      <td>17-18</td>\n",
       "      <td>5197</td>\n",
       "    </tr>\n",
       "    <tr>\n",
       "      <td>18-19</td>\n",
       "      <td>5734</td>\n",
       "    </tr>\n",
       "  </tbody>\n",
       "</table>\n",
       "</div>"
      ],
      "text/plain": [
       "       Total Publications\n",
       "14-15                5438\n",
       "15-16                7061\n",
       "16-17                5343\n",
       "17-18                5197\n",
       "18-19                5734"
      ]
     },
     "execution_count": 52,
     "metadata": {},
     "output_type": "execute_result"
    }
   ],
   "source": [
    "#Display results in a Pandas DataFrame\n",
    "\n",
    "yearsDA = [\"14-15\", \"15-16\", \"16-17\", \"17-18\", \"18-19\"]\n",
    "\n",
    "NumFoundTableDA = pd.DataFrame(list(zip(numFound[5:10])), \n",
    "               columns =['Total Publications'], index= yearsDA) \n",
    "\n",
    "NumFoundTableDA"
   ]
  },
  {
   "cell_type": "code",
   "execution_count": 53,
   "metadata": {},
   "outputs": [
    {
     "data": {
      "text/html": [
       "<div>\n",
       "<style scoped>\n",
       "    .dataframe tbody tr th:only-of-type {\n",
       "        vertical-align: middle;\n",
       "    }\n",
       "\n",
       "    .dataframe tbody tr th {\n",
       "        vertical-align: top;\n",
       "    }\n",
       "\n",
       "    .dataframe thead th {\n",
       "        text-align: right;\n",
       "    }\n",
       "</style>\n",
       "<table border=\"1\" class=\"dataframe\">\n",
       "  <thead>\n",
       "    <tr style=\"text-align: right;\">\n",
       "      <th></th>\n",
       "      <th>Total Publications</th>\n",
       "    </tr>\n",
       "  </thead>\n",
       "  <tbody>\n",
       "    <tr>\n",
       "      <td>09-10</td>\n",
       "      <td>1027</td>\n",
       "    </tr>\n",
       "    <tr>\n",
       "      <td>10-11</td>\n",
       "      <td>1478</td>\n",
       "    </tr>\n",
       "    <tr>\n",
       "      <td>11-12</td>\n",
       "      <td>2828</td>\n",
       "    </tr>\n",
       "    <tr>\n",
       "      <td>12-13</td>\n",
       "      <td>4767</td>\n",
       "    </tr>\n",
       "    <tr>\n",
       "      <td>13-14</td>\n",
       "      <td>6222</td>\n",
       "    </tr>\n",
       "    <tr>\n",
       "      <td>14-15</td>\n",
       "      <td>5438</td>\n",
       "    </tr>\n",
       "    <tr>\n",
       "      <td>15-16</td>\n",
       "      <td>7061</td>\n",
       "    </tr>\n",
       "    <tr>\n",
       "      <td>16-17</td>\n",
       "      <td>5343</td>\n",
       "    </tr>\n",
       "    <tr>\n",
       "      <td>17-18</td>\n",
       "      <td>5197</td>\n",
       "    </tr>\n",
       "    <tr>\n",
       "      <td>18-19</td>\n",
       "      <td>5734</td>\n",
       "    </tr>\n",
       "  </tbody>\n",
       "</table>\n",
       "</div>"
      ],
      "text/plain": [
       "       Total Publications\n",
       "09-10                1027\n",
       "10-11                1478\n",
       "11-12                2828\n",
       "12-13                4767\n",
       "13-14                6222\n",
       "14-15                5438\n",
       "15-16                7061\n",
       "16-17                5343\n",
       "17-18                5197\n",
       "18-19                5734"
      ]
     },
     "execution_count": 53,
     "metadata": {},
     "output_type": "execute_result"
    }
   ],
   "source": [
    "#Pandas DataFrame of the entire ten year period \n",
    "\n",
    "cont_years = [\"09-10\", \"10-11\", \"11-12\", \"12-13\", \"13-14\",\"14-15\", \"15-16\", \"16-17\", \"17-18\", \"18-19\"]\n",
    "\n",
    "NumFoundTable = pd.DataFrame(list(zip(numFound)), \n",
    "               columns =['Total Publications'], index= cont_years) \n",
    "\n",
    "NumFoundTable\n",
    "\n"
   ]
  },
  {
   "cell_type": "code",
   "execution_count": 59,
   "metadata": {},
   "outputs": [
    {
     "data": {
      "text/plain": [
       "Text(4.1, 4000, 'Policy implementation')"
      ]
     },
     "execution_count": 59,
     "metadata": {},
     "output_type": "execute_result"
    },
    {
     "data": {
      "image/png": "[encoded data removed]",
      "text/plain": [
       "<Figure size 1080x360 with 1 Axes>"
      ]
     },
     "metadata": {
      "needs_background": "light"
     },
     "output_type": "display_data"
    }
   ],
   "source": [
    "#The Pandas DataFrame of the previous cell, displayed as a line plot (Information Sciences)\n",
    "\n",
    "plot = NumFoundTable.plot.line(figsize=(15,5), marker=\"s\")\n",
    "plot.set_xlabel(\"Years\")\n",
    "plot.set_ylabel(\"Nr. of publications\")\n",
    "plot.axvline(x=4.025, color=\"black\", linestyle=\"--\")\n",
    "plot.text(4.10, 4000, \"Policy implementation\", horizontalalignment=\"left\", fontsize=12 )"
   ]
  },
  {
   "cell_type": "code",
   "execution_count": 15,
   "metadata": {},
   "outputs": [],
   "source": [
    "#A Function collecting the means for the three metrics\n",
    "\n",
    "from statistics import mean\n",
    "\n",
    "def get_means(API_URL):\n",
    "    url = API_URL\n",
    "    resp = requests.get(url)\n",
    "    data = resp.json()\n",
    "    data = data['response']\n",
    "    \n",
    "    numfound_DA = data['numFound']\n",
    "    docs_DA = data['docs']\n",
    "\n",
    "    TwitterCountList = []\n",
    "    FacebookCountList = []\n",
    "    CiteCountList = []\n",
    "\n",
    "    for x in range(0, numfound_DA - 1, 1):\n",
    "        TwitterCountList.append(docs_DA[x]['alm_twitterCount'])\n",
    "\n",
    "    for x in range(0, numfound_DA - 1, 1):\n",
    "        FacebookCountList.append(docs_DA[x]['alm_facebookCount'])\n",
    "\n",
    "    for x in range(0, numfound_DA - 1, 1):\n",
    "        CiteCountList.append(docs_DA[x]['alm_scopusCiteCount'])\n",
    "    \n",
    "    output = []\n",
    "    output.append(mean(TwitterCountList))\n",
    "    output.append(mean(FacebookCountList))\n",
    "    output.append(mean(CiteCountList))\n",
    "    \n",
    "    return output"
   ]
  },
  {
   "cell_type": "code",
   "execution_count": 8,
   "metadata": {},
   "outputs": [
    {
     "name": "stdout",
     "output_type": "stream",
     "text": [
      "[10.957145484642266, 9.390793201133144, 13.80700112317484, 8.77944572748268, 2.7039944182801325]\n",
      "[7.2985102078352035, 30.69815864022663, 14.200112317484088, 0, 0]\n",
      "[33.12194224756299, 28.81898016997167, 24.47435417446649, 21.017898383371826, 15.338391766963195]\n"
     ]
    }
   ],
   "source": [
    "#Retrieveing the means for the three Article Level Metrics after the PLOS policy implementation (Information Sciences)\n",
    "\n",
    "lstoflstsDA = []\n",
    "\n",
    "TwitterLstDA = []\n",
    "FacebookLstDA = []\n",
    "CiteLstDA = []\n",
    "\n",
    "lstoflstsDA.append(get_means(DA1))\n",
    "lstoflstsDA.append(get_means(DA2))\n",
    "lstoflstsDA.append(get_means(DA3))\n",
    "lstoflstsDA.append(get_means(DA4))\n",
    "lstoflstsDA.append(get_means(DA5))\n",
    "\n",
    "\n",
    "for lst in lstoflstsDA:\n",
    "    TwitterLstDA.append(lst[0])\n",
    "    FacebookLstDA.append(lst[1])\n",
    "    CiteLstDA.append(lst[2])\n",
    "\n",
    "print(TwitterLstDA)\n",
    "print(FacebookLstDA)\n",
    "print(CiteLstDA)\n"
   ]
  },
  {
   "cell_type": "code",
   "execution_count": 10,
   "metadata": {},
   "outputs": [
    {
     "name": "stdout",
     "output_type": "stream",
     "text": [
      "[0.017543859649122806, 3.10832769126608, 2.264591439688716, 9.166806546370122, 10.405561806783476]\n",
      "[0.011695906432748537, 1.9498984427894381, 1.8478952953661125, 2.675828787242971, 3.00434013824144]\n",
      "[71.78265107212475, 63.76641841570751, 51.664308454191726, 43.39970625262274, 37.53383700369716]\n"
     ]
    }
   ],
   "source": [
    "#Retrieveing the means for the three Article Level Metrics before the PLOS policy implementation (Information Sciences)\n",
    "\n",
    "lstoflstsNO_DA = []\n",
    "\n",
    "TwitterLstNO_DA = []\n",
    "FacebookLstNO_DA = []\n",
    "CiteLstNO_DA = []\n",
    "\n",
    "lstoflstsNO_DA.append(get_means(NO_DA5))\n",
    "lstoflstsNO_DA.append(get_means(NO_DA4))\n",
    "lstoflstsNO_DA.append(get_means(NO_DA3))\n",
    "lstoflstsNO_DA.append(get_means(NO_DA2))\n",
    "lstoflstsNO_DA.append(get_means(NO_DA1))\n",
    "\n",
    "\n",
    "for lst in lstoflstsNO_DA:\n",
    "    TwitterLstNO_DA.append(lst[0])\n",
    "    FacebookLstNO_DA.append(lst[1])\n",
    "    CiteLstNO_DA.append(lst[2])\n",
    "\n",
    "print(TwitterLstNO_DA)\n",
    "print(FacebookLstNO_DA)\n",
    "print(CiteLstNO_DA)\n"
   ]
  },
  {
   "cell_type": "code",
   "execution_count": 11,
   "metadata": {},
   "outputs": [
    {
     "data": {
      "text/html": [
       "<div>\n",
       "<style scoped>\n",
       "    .dataframe tbody tr th:only-of-type {\n",
       "        vertical-align: middle;\n",
       "    }\n",
       "\n",
       "    .dataframe tbody tr th {\n",
       "        vertical-align: top;\n",
       "    }\n",
       "\n",
       "    .dataframe thead th {\n",
       "        text-align: right;\n",
       "    }\n",
       "</style>\n",
       "<table border=\"1\" class=\"dataframe\">\n",
       "  <thead>\n",
       "    <tr style=\"text-align: right;\">\n",
       "      <th></th>\n",
       "      <th>Twitter_NO_DA</th>\n",
       "      <th>Facebook_NO_DA</th>\n",
       "      <th>Cites_NO_DA</th>\n",
       "    </tr>\n",
       "  </thead>\n",
       "  <tbody>\n",
       "    <tr>\n",
       "      <td>09-10</td>\n",
       "      <td>0.017544</td>\n",
       "      <td>0.011696</td>\n",
       "      <td>71.782651</td>\n",
       "    </tr>\n",
       "    <tr>\n",
       "      <td>10-11</td>\n",
       "      <td>3.108328</td>\n",
       "      <td>1.949898</td>\n",
       "      <td>63.766418</td>\n",
       "    </tr>\n",
       "    <tr>\n",
       "      <td>11-12</td>\n",
       "      <td>2.264591</td>\n",
       "      <td>1.847895</td>\n",
       "      <td>51.664308</td>\n",
       "    </tr>\n",
       "    <tr>\n",
       "      <td>12-13</td>\n",
       "      <td>9.166807</td>\n",
       "      <td>2.675829</td>\n",
       "      <td>43.399706</td>\n",
       "    </tr>\n",
       "    <tr>\n",
       "      <td>13-14</td>\n",
       "      <td>10.405562</td>\n",
       "      <td>3.004340</td>\n",
       "      <td>37.533837</td>\n",
       "    </tr>\n",
       "  </tbody>\n",
       "</table>\n",
       "</div>"
      ],
      "text/plain": [
       "       Twitter_NO_DA  Facebook_NO_DA  Cites_NO_DA\n",
       "09-10       0.017544        0.011696    71.782651\n",
       "10-11       3.108328        1.949898    63.766418\n",
       "11-12       2.264591        1.847895    51.664308\n",
       "12-13       9.166807        2.675829    43.399706\n",
       "13-14      10.405562        3.004340    37.533837"
      ]
     },
     "execution_count": 11,
     "metadata": {},
     "output_type": "execute_result"
    }
   ],
   "source": [
    "#Create a Pandas DataFrame of the resulting means for before the PLOS policy implementation (Information Sciences)\n",
    "\n",
    "years = [\"09-10\", \"10-11\", \"11-12\", \"12-13\", \"13-14\", ]\n",
    "\n",
    "MeansTableNO_DA = pd.DataFrame(list(zip(TwitterLstNO_DA,FacebookLstNO_DA,CiteLstNO_DA)), \n",
    "               columns =['Twitter_NO_DA','Facebook_NO_DA','Cites_NO_DA'], index= years) \n",
    "\n",
    "MeansTableNO_DA"
   ]
  },
  {
   "cell_type": "code",
   "execution_count": 15,
   "metadata": {},
   "outputs": [
    {
     "data": {
      "text/plain": [
       "Text(0, 0.5, 'Count')"
      ]
     },
     "execution_count": 15,
     "metadata": {},
     "output_type": "execute_result"
    },
    {
     "data": {
      "image/png": "[encoded data removed]",
      "text/plain": [
       "<Figure size 720x360 with 1 Axes>"
      ]
     },
     "metadata": {
      "needs_background": "light"
     },
     "output_type": "display_data"
    }
   ],
   "source": [
    "#The previous Pandas DataFrame plotted as a line graph (Information Sciences)\n",
    "\n",
    "cont_years = [\"09-10\", \"10-11\", \"11-12\", \"12-13\", \"13-14\",\"14-15\", \"15-16\", \"16-17\", \"17-18\", \"18-19\"]\n",
    "\n",
    "NO_DA_plot = MeansTableNO_DA.plot.line(figsize=(10,5), marker=\"s\")\n",
    "NO_DA_plot.set_xlabel(\"Years\")\n",
    "NO_DA_plot.set_ylabel(\"Count\")"
   ]
  },
  {
   "cell_type": "code",
   "execution_count": 16,
   "metadata": {},
   "outputs": [
    {
     "data": {
      "text/html": [
       "<div>\n",
       "<style scoped>\n",
       "    .dataframe tbody tr th:only-of-type {\n",
       "        vertical-align: middle;\n",
       "    }\n",
       "\n",
       "    .dataframe tbody tr th {\n",
       "        vertical-align: top;\n",
       "    }\n",
       "\n",
       "    .dataframe thead th {\n",
       "        text-align: right;\n",
       "    }\n",
       "</style>\n",
       "<table border=\"1\" class=\"dataframe\">\n",
       "  <thead>\n",
       "    <tr style=\"text-align: right;\">\n",
       "      <th></th>\n",
       "      <th>Twitter_DA</th>\n",
       "      <th>Facebook_DA</th>\n",
       "      <th>Cites_DA</th>\n",
       "    </tr>\n",
       "  </thead>\n",
       "  <tbody>\n",
       "    <tr>\n",
       "      <td>14-15</td>\n",
       "      <td>10.957145</td>\n",
       "      <td>7.298510</td>\n",
       "      <td>33.121942</td>\n",
       "    </tr>\n",
       "    <tr>\n",
       "      <td>15-16</td>\n",
       "      <td>9.390793</td>\n",
       "      <td>30.698159</td>\n",
       "      <td>28.818980</td>\n",
       "    </tr>\n",
       "    <tr>\n",
       "      <td>16-17</td>\n",
       "      <td>13.807001</td>\n",
       "      <td>14.200112</td>\n",
       "      <td>24.474354</td>\n",
       "    </tr>\n",
       "    <tr>\n",
       "      <td>17-18</td>\n",
       "      <td>8.779446</td>\n",
       "      <td>0.000000</td>\n",
       "      <td>21.017898</td>\n",
       "    </tr>\n",
       "    <tr>\n",
       "      <td>18-19</td>\n",
       "      <td>2.703994</td>\n",
       "      <td>0.000000</td>\n",
       "      <td>15.338392</td>\n",
       "    </tr>\n",
       "  </tbody>\n",
       "</table>\n",
       "</div>"
      ],
      "text/plain": [
       "       Twitter_DA  Facebook_DA   Cites_DA\n",
       "14-15   10.957145     7.298510  33.121942\n",
       "15-16    9.390793    30.698159  28.818980\n",
       "16-17   13.807001    14.200112  24.474354\n",
       "17-18    8.779446     0.000000  21.017898\n",
       "18-19    2.703994     0.000000  15.338392"
      ]
     },
     "execution_count": 16,
     "metadata": {},
     "output_type": "execute_result"
    }
   ],
   "source": [
    "#Create a Pandas DataFrame of the resulting means for after the PLOS policy implementation (Information Sciences)\n",
    "\n",
    "years = [\"14-15\", \"15-16\", \"16-17\", \"17-18\", \"18-19\", ]\n",
    "\n",
    "MeansTableDA = pd.DataFrame(list(zip(TwitterLstDA,FacebookLstDA,CiteLstDA)), \n",
    "               columns =['Twitter_DA','Facebook_DA','Cites_DA'], index= years) \n",
    "\n",
    "MeansTableDA"
   ]
  },
  {
   "cell_type": "code",
   "execution_count": 17,
   "metadata": {},
   "outputs": [
    {
     "data": {
      "text/plain": [
       "Text(0, 0.5, 'Count')"
      ]
     },
     "execution_count": 17,
     "metadata": {},
     "output_type": "execute_result"
    },
    {
     "data": {
      "image/png": "[encoded data removed]",
      "text/plain": [
       "<Figure size 720x360 with 1 Axes>"
      ]
     },
     "metadata": {
      "needs_background": "light"
     },
     "output_type": "display_data"
    }
   ],
   "source": [
    "#The Pandas DataFrame plotted in a line graph\n",
    "\n",
    "DA_plot = MeansTableDA.plot.line(figsize=(10,5), marker=\"s\")\n",
    "DA_plot.set_xlabel(\"Years\")\n",
    "DA_plot.set_ylabel(\"Count\")"
   ]
  },
  {
   "cell_type": "code",
   "execution_count": 38,
   "metadata": {},
   "outputs": [
    {
     "data": {
      "text/plain": [
       "Text(4.1, 70, 'Policy implementation')"
      ]
     },
     "execution_count": 38,
     "metadata": {},
     "output_type": "execute_result"
    },
    {
     "data": {
      "image/png": "[encoded data removed]",
      "text/plain": [
       "<Figure size 1080x360 with 1 Axes>"
      ]
     },
     "metadata": {
      "needs_background": "light"
     },
     "output_type": "display_data"
    }
   ],
   "source": [
    "#A plot of the Article Level Metrics for the full 10 year time-period (Information Sciences)\n",
    "\n",
    "cont_years = [\"09-10\", \"10-11\", \"11-12\", \"12-13\", \"13-14\",\"14-15\", \"15-16\", \"16-17\", \"17-18\", \"18-19\"]\n",
    "\n",
    "Twitter = TwitterLstNO_DA + TwitterLstDA\n",
    "Facebook = FacebookLstNO_DA + FacebookLstDA\n",
    "Cites = CiteLstNO_DA + CiteLstDA\n",
    "\n",
    "cont_MeansTable = pd.DataFrame(list(zip(Twitter,Facebook,Cites)), \n",
    "               columns =['Twitter','Facebook','Cites'], index= cont_years) \n",
    "\n",
    "cont_plot = cont_MeansTable.plot.line(figsize=(15,5), marker=\"s\")\n",
    "cont_plot.set_xlabel(\"Years\")\n",
    "cont_plot.set_ylabel(\"Count\")\n",
    "cont_plot.axvline(x=4.025, color=\"black\", linestyle=\"--\")\n",
    "cont_plot.text(4.10,70, \"Policy implementation\", horizontalalignment=\"left\", fontsize=12 )"
   ]
  },
  {
   "cell_type": "code",
   "execution_count": 39,
   "metadata": {},
   "outputs": [],
   "source": [
    "from statsmodels.tsa.stattools import adfuller"
   ]
  },
  {
   "cell_type": "code",
   "execution_count": 41,
   "metadata": {},
   "outputs": [
    {
     "name": "stdout",
     "output_type": "stream",
     "text": [
      "(-1.8184203337868017, 0.3713556147357153, 0, 9, {'1%': -4.473135048010974, '5%': -3.28988060356653, '10%': -2.7723823456790124}, 35.55037340950067)\n"
     ]
    }
   ],
   "source": [
    "#The following three cells execute the Dickey-Fuller test for the three Article Level Metrics\n",
    "\n",
    "print(adfuller(Twitter))"
   ]
  },
  {
   "cell_type": "code",
   "execution_count": 42,
   "metadata": {},
   "outputs": [
    {
     "name": "stdout",
     "output_type": "stream",
     "text": [
      "(-2.0760459067087034, 0.25425509607355223, 1, 8, {'1%': -4.6651863281249994, '5%': -3.3671868750000002, '10%': -2.802960625}, 48.91099747324906)\n"
     ]
    }
   ],
   "source": [
    "print(adfuller(Facebook))"
   ]
  },
  {
   "cell_type": "code",
   "execution_count": 43,
   "metadata": {},
   "outputs": [
    {
     "name": "stdout",
     "output_type": "stream",
     "text": [
      "(0.0955135685641394, 0.9657534463547764, 3, 6, {'1%': -5.354256481481482, '5%': -3.6462381481481483, '10%': -2.901197777777778}, 14.9103996120994)\n"
     ]
    }
   ],
   "source": [
    "print(adfuller(Cites))"
   ]
  },
  {
   "cell_type": "code",
   "execution_count": 2,
   "metadata": {},
   "outputs": [],
   "source": [
    "#PLOS API URL collection - Computer and information sciences\n",
    "#The same steps taken for Social Sciences are repeated.\n",
    "\n",
    "#First 5 years after the policy introduction\n",
    "DA1_CIS = 'http://api.plos.org/search?q=subject_level_1:\"Computer and information sciences\" AND everything:10.1371 AND publication_date:[2014-03-04T00:00:00Z TO 2015-03-04T23:59:59Z]&fl=id,data_availability,alm_scopusCiteCount,alm_twitterCount,alm_facebookCount&wt=json&indent=on&rows=10000'\n",
    "DA2_CIS = 'http://api.plos.org/search?q=subject_level_1:\"Computer and information sciences\" AND everything:10.1371 AND publication_date:[2015-03-04T00:00:00Z TO 2016-03-04T23:59:59Z]&fl=id,data_availability,alm_scopusCiteCount,alm_twitterCount,alm_facebookCount&wt=json&indent=on&rows=10000'\n",
    "DA3_CIS = 'http://api.plos.org/search?q=subject_level_1:\"Computer and information sciences\" AND everything:10.1371 AND publication_date:[2016-03-04T00:00:00Z TO 2017-03-04T23:59:59Z]&fl=id,data_availability,alm_scopusCiteCount,alm_twitterCount,alm_facebookCount&wt=json&indent=on&rows=10000'\n",
    "DA4_CIS = 'http://api.plos.org/search?q=subject_level_1:\"Computer and information sciences\" AND everything:10.1371 AND publication_date:[2017-03-04T00:00:00Z TO 2018-03-04T23:59:59Z]&fl=id,data_availability,alm_scopusCiteCount,alm_twitterCount,alm_facebookCount&wt=json&indent=on&rows=10000'\n",
    "DA5_CIS = 'http://api.plos.org/search?q=subject_level_1:\"Computer and information sciences\" AND everything:10.1371 AND publication_date:[2018-03-04T00:00:00Z TO 2019-03-04T23:59:59Z]&fl=id,data_availability,alm_scopusCiteCount,alm_twitterCount,alm_facebookCount&wt=json&indent=on&rows=10000'\n",
    "\n",
    "#5 Years leading up to the policy introduction\n",
    "NO_DA5_CIS = 'http://api.plos.org/search?q=subject_level_1:\"Computer and information sciences\" AND everything:10.1371 AND publication_date:[2009-03-01T00:00:00Z TO 2010-03-01T23:59:59Z]&fl=id,data_availability,alm_scopusCiteCount,alm_twitterCount,alm_facebookCount&wt=json&indent=on&rows=10000'\n",
    "NO_DA4_CIS = 'http://api.plos.org/search?q=subject_level_1:\"Computer and information sciences\" AND everything:10.1371 AND publication_date:[2010-03-01T00:00:00Z TO 2011-03-01T23:59:59Z]&fl=id,data_availability,alm_scopusCiteCount,alm_twitterCount,alm_facebookCount&wt=json&indent=on&rows=10000'\n",
    "NO_DA3_CIS = 'http://api.plos.org/search?q=subject_level_1:\"Computer and information sciences\" AND everything:10.1371 AND publication_date:[2011-03-01T00:00:00Z TO 2012-03-01T23:59:59Z]&fl=id,data_availability,alm_scopusCiteCount,alm_twitterCount,alm_facebookCount&wt=json&indent=on&rows=10000'\n",
    "NO_DA2_CIS = 'http://api.plos.org/search?q=subject_level_1:\"Computer and information sciences\" AND everything:10.1371 AND publication_date:[2012-03-01T00:00:00Z TO 2013-03-01T23:59:59Z]&fl=id,data_availability,alm_scopusCiteCount,alm_twitterCount,alm_facebookCount&wt=json&indent=on&rows=10000'\n",
    "NO_DA1_CIS = 'http://api.plos.org/search?q=subject_level_1:\"Computer and information sciences\" AND everything:10.1371 AND publication_date:[2013-03-01T00:00:00Z TO 2014-03-01T23:59:59Z]&fl=id,data_availability,alm_scopusCiteCount,alm_twitterCount,alm_facebookCount&wt=json&indent=on&rows=10000'\n"
   ]
  },
  {
   "cell_type": "code",
   "execution_count": 5,
   "metadata": {},
   "outputs": [
    {
     "name": "stdout",
     "output_type": "stream",
     "text": [
      "[728, 1047, 1884, 2872, 3528, 3137, 3864, 3013, 2894, 2969]\n"
     ]
    }
   ],
   "source": [
    "numFound_CIS = []\n",
    "\n",
    "numFound_CIS.append(get_numfound(NO_DA5_CIS))\n",
    "numFound_CIS.append(get_numfound(NO_DA4_CIS))\n",
    "numFound_CIS.append(get_numfound(NO_DA3_CIS))\n",
    "numFound_CIS.append(get_numfound(NO_DA2_CIS))\n",
    "numFound_CIS.append(get_numfound(NO_DA1_CIS))\n",
    "\n",
    "numFound_CIS.append(get_numfound(DA1_CIS))\n",
    "numFound_CIS.append(get_numfound(DA2_CIS))\n",
    "numFound_CIS.append(get_numfound(DA3_CIS))\n",
    "numFound_CIS.append(get_numfound(DA4_CIS))\n",
    "numFound_CIS.append(get_numfound(DA5_CIS))\n",
    "    \n",
    "print(numFound_CIS)"
   ]
  },
  {
   "cell_type": "code",
   "execution_count": 8,
   "metadata": {},
   "outputs": [
    {
     "data": {
      "text/html": [
       "<div>\n",
       "<style scoped>\n",
       "    .dataframe tbody tr th:only-of-type {\n",
       "        vertical-align: middle;\n",
       "    }\n",
       "\n",
       "    .dataframe tbody tr th {\n",
       "        vertical-align: top;\n",
       "    }\n",
       "\n",
       "    .dataframe thead th {\n",
       "        text-align: right;\n",
       "    }\n",
       "</style>\n",
       "<table border=\"1\" class=\"dataframe\">\n",
       "  <thead>\n",
       "    <tr style=\"text-align: right;\">\n",
       "      <th></th>\n",
       "      <th>Total Publications</th>\n",
       "    </tr>\n",
       "  </thead>\n",
       "  <tbody>\n",
       "    <tr>\n",
       "      <td>09-10</td>\n",
       "      <td>728</td>\n",
       "    </tr>\n",
       "    <tr>\n",
       "      <td>10-11</td>\n",
       "      <td>1047</td>\n",
       "    </tr>\n",
       "    <tr>\n",
       "      <td>11-12</td>\n",
       "      <td>1884</td>\n",
       "    </tr>\n",
       "    <tr>\n",
       "      <td>12-13</td>\n",
       "      <td>2872</td>\n",
       "    </tr>\n",
       "    <tr>\n",
       "      <td>13-14</td>\n",
       "      <td>3528</td>\n",
       "    </tr>\n",
       "  </tbody>\n",
       "</table>\n",
       "</div>"
      ],
      "text/plain": [
       "       Total Publications\n",
       "09-10                 728\n",
       "10-11                1047\n",
       "11-12                1884\n",
       "12-13                2872\n",
       "13-14                3528"
      ]
     },
     "execution_count": 8,
     "metadata": {},
     "output_type": "execute_result"
    }
   ],
   "source": [
    "yearsNODA = [\"09-10\", \"10-11\", \"11-12\", \"12-13\", \"13-14\"]\n",
    "\n",
    "NumFoundTableNO_DA_CIS = pd.DataFrame(list(zip(numFound_CIS[0:5])), \n",
    "               columns =['Total Publications'], index= yearsNODA) \n",
    "\n",
    "NumFoundTableNO_DA_CIS"
   ]
  },
  {
   "cell_type": "code",
   "execution_count": 9,
   "metadata": {},
   "outputs": [
    {
     "data": {
      "text/html": [
       "<div>\n",
       "<style scoped>\n",
       "    .dataframe tbody tr th:only-of-type {\n",
       "        vertical-align: middle;\n",
       "    }\n",
       "\n",
       "    .dataframe tbody tr th {\n",
       "        vertical-align: top;\n",
       "    }\n",
       "\n",
       "    .dataframe thead th {\n",
       "        text-align: right;\n",
       "    }\n",
       "</style>\n",
       "<table border=\"1\" class=\"dataframe\">\n",
       "  <thead>\n",
       "    <tr style=\"text-align: right;\">\n",
       "      <th></th>\n",
       "      <th>Total Publications</th>\n",
       "    </tr>\n",
       "  </thead>\n",
       "  <tbody>\n",
       "    <tr>\n",
       "      <td>14-15</td>\n",
       "      <td>3137</td>\n",
       "    </tr>\n",
       "    <tr>\n",
       "      <td>15-16</td>\n",
       "      <td>3864</td>\n",
       "    </tr>\n",
       "    <tr>\n",
       "      <td>16-17</td>\n",
       "      <td>3013</td>\n",
       "    </tr>\n",
       "    <tr>\n",
       "      <td>17-18</td>\n",
       "      <td>2894</td>\n",
       "    </tr>\n",
       "    <tr>\n",
       "      <td>18-19</td>\n",
       "      <td>2969</td>\n",
       "    </tr>\n",
       "  </tbody>\n",
       "</table>\n",
       "</div>"
      ],
      "text/plain": [
       "       Total Publications\n",
       "14-15                3137\n",
       "15-16                3864\n",
       "16-17                3013\n",
       "17-18                2894\n",
       "18-19                2969"
      ]
     },
     "execution_count": 9,
     "metadata": {},
     "output_type": "execute_result"
    }
   ],
   "source": [
    "yearsDA = [\"14-15\", \"15-16\", \"16-17\", \"17-18\", \"18-19\"]\n",
    "\n",
    "NumFoundTableDA_CIS = pd.DataFrame(list(zip(numFound_CIS[5:10])), \n",
    "               columns =['Total Publications'], index= yearsDA) \n",
    "\n",
    "NumFoundTableDA_CIS"
   ]
  },
  {
   "cell_type": "code",
   "execution_count": 10,
   "metadata": {},
   "outputs": [
    {
     "data": {
      "text/html": [
       "<div>\n",
       "<style scoped>\n",
       "    .dataframe tbody tr th:only-of-type {\n",
       "        vertical-align: middle;\n",
       "    }\n",
       "\n",
       "    .dataframe tbody tr th {\n",
       "        vertical-align: top;\n",
       "    }\n",
       "\n",
       "    .dataframe thead th {\n",
       "        text-align: right;\n",
       "    }\n",
       "</style>\n",
       "<table border=\"1\" class=\"dataframe\">\n",
       "  <thead>\n",
       "    <tr style=\"text-align: right;\">\n",
       "      <th></th>\n",
       "      <th>Total Publications</th>\n",
       "    </tr>\n",
       "  </thead>\n",
       "  <tbody>\n",
       "    <tr>\n",
       "      <td>09-10</td>\n",
       "      <td>728</td>\n",
       "    </tr>\n",
       "    <tr>\n",
       "      <td>10-11</td>\n",
       "      <td>1047</td>\n",
       "    </tr>\n",
       "    <tr>\n",
       "      <td>11-12</td>\n",
       "      <td>1884</td>\n",
       "    </tr>\n",
       "    <tr>\n",
       "      <td>12-13</td>\n",
       "      <td>2872</td>\n",
       "    </tr>\n",
       "    <tr>\n",
       "      <td>13-14</td>\n",
       "      <td>3528</td>\n",
       "    </tr>\n",
       "    <tr>\n",
       "      <td>14-15</td>\n",
       "      <td>3137</td>\n",
       "    </tr>\n",
       "    <tr>\n",
       "      <td>15-16</td>\n",
       "      <td>3864</td>\n",
       "    </tr>\n",
       "    <tr>\n",
       "      <td>16-17</td>\n",
       "      <td>3013</td>\n",
       "    </tr>\n",
       "    <tr>\n",
       "      <td>17-18</td>\n",
       "      <td>2894</td>\n",
       "    </tr>\n",
       "    <tr>\n",
       "      <td>18-19</td>\n",
       "      <td>2969</td>\n",
       "    </tr>\n",
       "  </tbody>\n",
       "</table>\n",
       "</div>"
      ],
      "text/plain": [
       "       Total Publications\n",
       "09-10                 728\n",
       "10-11                1047\n",
       "11-12                1884\n",
       "12-13                2872\n",
       "13-14                3528\n",
       "14-15                3137\n",
       "15-16                3864\n",
       "16-17                3013\n",
       "17-18                2894\n",
       "18-19                2969"
      ]
     },
     "execution_count": 10,
     "metadata": {},
     "output_type": "execute_result"
    }
   ],
   "source": [
    "cont_years = [\"09-10\", \"10-11\", \"11-12\", \"12-13\", \"13-14\",\"14-15\", \"15-16\", \"16-17\", \"17-18\", \"18-19\"]\n",
    "\n",
    "NumFoundTable_CIS = pd.DataFrame(list(zip(numFound_CIS)), \n",
    "               columns =['Total Publications'], index= cont_years) \n",
    "\n",
    "NumFoundTable_CIS"
   ]
  },
  {
   "cell_type": "code",
   "execution_count": 14,
   "metadata": {},
   "outputs": [
    {
     "data": {
      "text/plain": [
       "<matplotlib.axes._subplots.AxesSubplot at 0x7fa9d6a61250>"
      ]
     },
     "execution_count": 14,
     "metadata": {},
     "output_type": "execute_result"
    },
    {
     "data": {
      "image/png": "[encoded data removed]",
      "text/plain": [
       "<Figure size 1080x360 with 1 Axes>"
      ]
     },
     "metadata": {
      "needs_background": "light"
     },
     "output_type": "display_data"
    }
   ],
   "source": [
    "plot_CIS = NumFoundTable_CIS.plot.line(figsize=(15,5), marker=\"s\")\n",
    "plot_CIS.set_xlabel(\"Years\")\n",
    "plot_CIS.set_ylabel(\"Nr. of publications\")\n",
    "plot_CIS.axvline(x=4.025, color=\"black\", linestyle=\"--\")\n",
    "plot_CIS.text(4.10, 2200, \"Policy implementation\", horizontalalignment=\"left\", fontsize=12 )\n",
    "plot_CIS"
   ]
  },
  {
   "cell_type": "code",
   "execution_count": 16,
   "metadata": {},
   "outputs": [
    {
     "name": "stdout",
     "output_type": "stream",
     "text": [
      "[0, 0, 0, 0, 0]\n",
      "[0, 0, 0, 0, 0]\n",
      "[87.1678129298487, 88.87571701720842, 68.74827403080191, 50.332985022640194, 45.544655514601644]\n"
     ]
    }
   ],
   "source": [
    "lstoflstsNO_DA_CIS = []\n",
    "\n",
    "TwitterLstNO_DA_CIS = []\n",
    "FacebookLstNO_DA_CIS = []\n",
    "CiteLstNO_DA_CIS = []\n",
    "\n",
    "lstoflstsNO_DA_CIS.append(get_means(NO_DA5_CIS))\n",
    "lstoflstsNO_DA_CIS.append(get_means(NO_DA4_CIS))\n",
    "lstoflstsNO_DA_CIS.append(get_means(NO_DA3_CIS))\n",
    "lstoflstsNO_DA_CIS.append(get_means(NO_DA2_CIS))\n",
    "lstoflstsNO_DA_CIS.append(get_means(NO_DA1_CIS))\n",
    "\n",
    "\n",
    "for lst in lstoflstsNO_DA_CIS:\n",
    "    TwitterLstNO_DA_CIS.append(lst[0])\n",
    "    FacebookLstNO_DA_CIS.append(lst[1])\n",
    "    CiteLstNO_DA_CIS.append(lst[2])\n",
    "\n",
    "print(TwitterLstNO_DA_CIS)\n",
    "print(FacebookLstNO_DA_CIS)\n",
    "print(CiteLstNO_DA_CIS)\n"
   ]
  },
  {
   "cell_type": "code",
   "execution_count": 17,
   "metadata": {},
   "outputs": [
    {
     "name": "stdout",
     "output_type": "stream",
     "text": [
      "[0, 0, 0, 0, 0]\n",
      "[0, 0, 0, 0, 0]\n",
      "[39.75892857142857, 31.086461299508155, 28.064741035856574, 22.901140684410645, 18.72035040431267]\n"
     ]
    }
   ],
   "source": [
    "lstoflstsDA_CIS = []\n",
    "\n",
    "TwitterLstDA_CIS = []\n",
    "FacebookLstDA_CIS = []\n",
    "CiteLstDA_CIS = []\n",
    "\n",
    "lstoflstsDA_CIS.append(get_means(DA1_CIS))\n",
    "lstoflstsDA_CIS.append(get_means(DA2_CIS))\n",
    "lstoflstsDA_CIS.append(get_means(DA3_CIS))\n",
    "lstoflstsDA_CIS.append(get_means(DA4_CIS))\n",
    "lstoflstsDA_CIS.append(get_means(DA5_CIS))\n",
    "\n",
    "\n",
    "for lst in lstoflstsDA_CIS:\n",
    "    TwitterLstDA_CIS.append(lst[0])\n",
    "    FacebookLstDA_CIS.append(lst[1])\n",
    "    CiteLstDA_CIS.append(lst[2])\n",
    "\n",
    "print(TwitterLstDA_CIS)\n",
    "print(FacebookLstDA_CIS)\n",
    "print(CiteLstDA_CIS)"
   ]
  },
  {
   "cell_type": "code",
   "execution_count": 18,
   "metadata": {},
   "outputs": [
    {
     "data": {
      "text/plain": [
       "Text(4.1, 70, 'Policy implementation')"
      ]
     },
     "execution_count": 18,
     "metadata": {},
     "output_type": "execute_result"
    },
    {
     "data": {
      "image/png": "[encoded data removed]",
      "text/plain": [
       "<Figure size 1080x360 with 1 Axes>"
      ]
     },
     "metadata": {
      "needs_background": "light"
     },
     "output_type": "display_data"
    }
   ],
   "source": [
    "cont_years = [\"09-10\", \"10-11\", \"11-12\", \"12-13\", \"13-14\",\"14-15\", \"15-16\", \"16-17\", \"17-18\", \"18-19\"]\n",
    "\n",
    "Twitter_CIS = TwitterLstNO_DA_CIS + TwitterLstDA_CIS\n",
    "Facebook_CIS = FacebookLstNO_DA_CIS + FacebookLstDA_CIS\n",
    "Cites_CIS = CiteLstNO_DA_CIS + CiteLstDA_CIS\n",
    "\n",
    "cont_MeansTable_CIS = pd.DataFrame(list(zip(Twitter_CIS,Facebook_CIS,Cites_CIS)), \n",
    "               columns =['Twitter','Facebook','Cites'], index= cont_years) \n",
    "\n",
    "cont_plot_CIS = cont_MeansTable_CIS.plot.line(figsize=(15,5), marker=\"s\")\n",
    "cont_plot_CIS.set_xlabel(\"Years\")\n",
    "cont_plot_CIS.set_ylabel(\"Count\")\n",
    "cont_plot_CIS.axvline(x=4.025, color=\"black\", linestyle=\"--\")\n",
    "cont_plot_CIS.text(4.10,70, \"Policy implementation\", horizontalalignment=\"left\", fontsize=12 )"
   ]
  },
  {
   "cell_type": "code",
   "execution_count": 39,
   "metadata": {},
   "outputs": [],
   "source": [
    "#A function is created to calculate the percentages for the presence of data availability statements...\n",
    "#... in the two analyzed scientific fields\n",
    "\n",
    "def get_data_availability(API_URL):\n",
    "    url = API_URL\n",
    "    resp = requests.get(url)\n",
    "    data = resp.json()\n",
    "    data = data['response']\n",
    "    numfound = data['numFound']\n",
    "    data = data['docs']\n",
    "    \n",
    "    counter = 0\n",
    "    keyword = 'data_availability'\n",
    "    for x in data10:\n",
    "        if keyword in x:\n",
    "            counter += 1\n",
    "    \n",
    "    percentage = (counter / numfound) * 100\n",
    "    \n",
    "    return percentage"
   ]
  },
  {
   "cell_type": "code",
   "execution_count": 41,
   "metadata": {},
   "outputs": [
    {
     "name": "stdout",
     "output_type": "stream",
     "text": [
      "[42.865023905847735, 33.01232120096304, 43.62717574396407, 44.85279969213008, 40.65224973840251]\n"
     ]
    }
   ],
   "source": [
    "#Retrieving the percentages for the 5 years after the PLOS policy implementation - Social Sciences\n",
    "\n",
    "DA_percentages = []\n",
    "\n",
    "DA_percentages.append(get_data_availability(DA1))\n",
    "DA_percentages.append(get_data_availability(DA2))\n",
    "DA_percentages.append(get_data_availability(DA3))\n",
    "DA_percentages.append(get_data_availability(DA4))\n",
    "DA_percentages.append(get_data_availability(DA5))\n",
    "\n",
    "print(DA_percentages)"
   ]
  },
  {
   "cell_type": "code",
   "execution_count": 43,
   "metadata": {},
   "outputs": [
    {
     "name": "stdout",
     "output_type": "stream",
     "text": [
      "[74.30666241632132, 60.32608695652174, 77.36475273813474, 80.54595715272978, 78.51128326035702]\n"
     ]
    }
   ],
   "source": [
    "#Retrieving the percentages for the 5 years after the PLOS policy implementation - Computer & Information Sciences\n",
    "\n",
    "DA_percentagesCIS = []\n",
    "\n",
    "DA_percentagesCIS.append(get_data_availability(DA1_CIS))\n",
    "DA_percentagesCIS.append(get_data_availability(DA2_CIS))\n",
    "DA_percentagesCIS.append(get_data_availability(DA3_CIS))\n",
    "DA_percentagesCIS.append(get_data_availability(DA4_CIS))\n",
    "DA_percentagesCIS.append(get_data_availability(DA5_CIS))\n",
    "\n",
    "print(DA_percentagesCIS)"
   ]
  },
  {
   "cell_type": "code",
   "execution_count": 45,
   "metadata": {},
   "outputs": [
    {
     "data": {
      "text/html": [
       "<div>\n",
       "<style scoped>\n",
       "    .dataframe tbody tr th:only-of-type {\n",
       "        vertical-align: middle;\n",
       "    }\n",
       "\n",
       "    .dataframe tbody tr th {\n",
       "        vertical-align: top;\n",
       "    }\n",
       "\n",
       "    .dataframe thead th {\n",
       "        text-align: right;\n",
       "    }\n",
       "</style>\n",
       "<table border=\"1\" class=\"dataframe\">\n",
       "  <thead>\n",
       "    <tr style=\"text-align: right;\">\n",
       "      <th></th>\n",
       "      <th>Social Sciences</th>\n",
       "      <th>Computer &amp; Information Sciences</th>\n",
       "    </tr>\n",
       "  </thead>\n",
       "  <tbody>\n",
       "    <tr>\n",
       "      <td>14-15</td>\n",
       "      <td>42.865024</td>\n",
       "      <td>74.306662</td>\n",
       "    </tr>\n",
       "    <tr>\n",
       "      <td>15-16</td>\n",
       "      <td>33.012321</td>\n",
       "      <td>60.326087</td>\n",
       "    </tr>\n",
       "    <tr>\n",
       "      <td>16-17</td>\n",
       "      <td>43.627176</td>\n",
       "      <td>77.364753</td>\n",
       "    </tr>\n",
       "    <tr>\n",
       "      <td>17-18</td>\n",
       "      <td>44.852800</td>\n",
       "      <td>80.545957</td>\n",
       "    </tr>\n",
       "    <tr>\n",
       "      <td>18-19</td>\n",
       "      <td>40.652250</td>\n",
       "      <td>78.511283</td>\n",
       "    </tr>\n",
       "  </tbody>\n",
       "</table>\n",
       "</div>"
      ],
      "text/plain": [
       "       Social Sciences  Computer & Information Sciences\n",
       "14-15        42.865024                        74.306662\n",
       "15-16        33.012321                        60.326087\n",
       "16-17        43.627176                        77.364753\n",
       "17-18        44.852800                        80.545957\n",
       "18-19        40.652250                        78.511283"
      ]
     },
     "execution_count": 45,
     "metadata": {},
     "output_type": "execute_result"
    }
   ],
   "source": [
    "#Show resulting percentages in Pandas DataFrame\n",
    "\n",
    "DAyears = [\"14-15\", \"15-16\", \"16-17\", \"17-18\", \"18-19\"]\n",
    "\n",
    "DApercentageTable = pd.DataFrame(list(zip(DA_percentages, DA_percentagesCIS)), \n",
    "               columns =['Social Sciences','Computer & Information Sciences'], index= DAyears) \n",
    "\n",
    "DApercentageTable"
   ]
  },
  {
   "cell_type": "code",
   "execution_count": 52,
   "metadata": {},
   "outputs": [
    {
     "data": {
      "text/plain": [
       "Text(0, 0.5, 'Percentage of data availability statements')"
      ]
     },
     "execution_count": 52,
     "metadata": {},
     "output_type": "execute_result"
    },
    {
     "data": {
      "image/png": "[encoded data removed]",
      "text/plain": [
       "<Figure size 1080x504 with 1 Axes>"
      ]
     },
     "metadata": {
      "needs_background": "light"
     },
     "output_type": "display_data"
    }
   ],
   "source": [
    "#A bar plot is created for the Pandas Datframe in the previous cell\n",
    "\n",
    "ax = DApercentageTable.plot.bar(rot=0, figsize=(15,7))\n",
    "ax.set_xlabel(\"Year\")\n",
    "ax.set_ylabel(\"Percentage of data availability statements\")"
   ]
  }
 ],
 "metadata": {
  "kernelspec": {
   "display_name": "Python 3",
   "language": "python",
   "name": "python3"
  },
  "language_info": {
   "codemirror_mode": {
    "name": "ipython",
    "version": 3
   },
   "file_extension": ".py",
   "mimetype": "text/x-python",
   "name": "python",
   "nbconvert_exporter": "python",
   "pygments_lexer": "ipython3",
   "version": "3.7.4"
  }
 },
 "nbformat": 4,
 "nbformat_minor": 2
}
